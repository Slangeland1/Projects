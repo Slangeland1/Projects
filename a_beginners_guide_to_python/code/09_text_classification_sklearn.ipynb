{
 "cells": [
  {
   "cell_type": "markdown",
   "metadata": {
    "toc": true
   },
   "source": [
    "<h1>Table of Contents<span class=\"tocSkip\"></span></h1>\n",
    "<div class=\"toc\"><ul class=\"toc-item\"><li><span><a href=\"#Classification-of-text-documents-using-sparse-features\" data-toc-modified-id=\"Classification-of-text-documents-using-sparse-features-1\"><span class=\"toc-item-num\">1&nbsp;&nbsp;</span>Classification of text documents using sparse features</a></span></li></ul></div>"
   ]
  },
  {
   "cell_type": "markdown",
   "metadata": {},
   "source": [
    "__File Info:__\n",
    "\n",
    "Date: 20181031\n",
    "\n",
    "Author: Stephanie Langeland \n",
    "\n",
    "File Name: 09_text_classification_sklearn.ipynb\n",
    "\n",
    "Version: 01\n",
    "\n",
    "Previous Version/File: None\n",
    "\n",
    "Dependencies: None\n",
    "\n",
    "Purpose: Classification of text documents using sparse features using scikit-learn.\n",
    "\n",
    "Input File(s): None\n",
    "\n",
    "Output File(s): None\n",
    "\n",
    "Required by: \n",
    "- A beginner's guide to Python.\n",
    "- Tutorial: http://scikit-learn.org/stable/auto_examples/text/plot_document_classification_20newsgroups.html#sphx-glr-auto-examples-text-plot-document-classification-20newsgroups-py\n",
    "\n",
    "Status: Complete\n",
    "\n",
    "Machine: Dell Latitude - Windows 10\n",
    "\n",
    "Python Version: Python 3"
   ]
  },
  {
   "cell_type": "markdown",
   "metadata": {},
   "source": [
    "# Classification of text documents using sparse features\n",
    "\n",
    "This is an example showing how scikit-learn can be used to classify documents by topics using a bag-of-words approach. This example uses a scipy.sparse matrix to store the features and demonstrates various classifiers that can efficiently handle sparse matrices.\n",
    "\n",
    "The dataset used in this example is the 20 newsgroups dataset. It will be automatically downloaded, then cached.\n",
    "\n",
    "The bar plot indicates the accuracy, training time (normalized) and test time (normalized) of each classifier."
   ]
  },
  {
   "cell_type": "code",
   "execution_count": 1,
   "metadata": {},
   "outputs": [],
   "source": [
    "import logging ## https://docs.python.org/2/howto/logging.html\n",
    "import numpy as np\n",
    "from optparse import OptionParser\n",
    "    ## https://docs.python.org/2/library/optparse.html#module-optparse\n",
    "    ## http://www.alexonlinux.com/pythons-optparse-for-human-beings\n",
    "import sys ## https://docs.python.org/2/library/sys.html\n",
    "from time import time ## This module provides various time-related functions.\n",
    "import matplotlib.pyplot as plt\n",
    "\n",
    "from sklearn.datasets import fetch_20newsgroups ## returns a list of the raw texts that can be fed to text feature extractors\n",
    "from sklearn.feature_extraction.text import TfidfVectorizer\n",
    "from sklearn.feature_extraction.text import HashingVectorizer\n",
    "from sklearn.feature_selection import SelectFromModel\n",
    "from sklearn.feature_selection import SelectKBest, chi2\n",
    "from sklearn.linear_model import RidgeClassifier\n",
    "from sklearn.pipeline import Pipeline\n",
    "from sklearn.svm import LinearSVC\n",
    "from sklearn.linear_model import SGDClassifier\n",
    "from sklearn.linear_model import Perceptron\n",
    "from sklearn.linear_model import PassiveAggressiveClassifier\n",
    "from sklearn.naive_bayes import BernoulliNB, ComplementNB, MultinomialNB\n",
    "from sklearn.neighbors import KNeighborsClassifier\n",
    "from sklearn.neighbors import NearestCentroid\n",
    "from sklearn.ensemble import RandomForestClassifier\n",
    "from sklearn.utils.extmath import density\n",
    "from sklearn import metrics"
   ]
  },
  {
   "cell_type": "markdown",
   "metadata": {},
   "source": [
    "Text data we will be working with: http://qwone.com/~jason/20Newsgroups/"
   ]
  },
  {
   "cell_type": "markdown",
   "metadata": {},
   "source": [
    "Display progress logs:"
   ]
  },
  {
   "cell_type": "code",
   "execution_count": 2,
   "metadata": {},
   "outputs": [],
   "source": [
    "logging.basicConfig( ## used to change the configuration defaults, which results in output (written to /tmp/myapp.log)\n",
    "    level = logging.INFO, ## Report events that occur during normal operation of a program (e.g. for status monitoring or fault investigation)\n",
    "    format = \"%(asctime)s %(levelname)s %(message)s\" ## date & time of event followed levelname (severity) then message (event description, including variable data) \n",
    ")"
   ]
  },
  {
   "cell_type": "markdown",
   "metadata": {},
   "source": [
    "Parse command line arguments:"
   ]
  },
  {
   "cell_type": "code",
   "execution_count": 3,
   "metadata": {
    "scrolled": true
   },
   "outputs": [
    {
     "name": "stdout",
     "output_type": "stream",
     "text": [
      "Automatically created module for IPython interactive environment\n",
      "Usage: ipykernel_launcher.py [options]\n",
      "\n",
      "Options:\n",
      "  -h, --help            show this help message and exit\n",
      "  --report              Print a detailed classification report.\n",
      "  --chi2_select=SELECT_CHI2\n",
      "                        Select some number of features using a chi-squared\n",
      "                        test.\n",
      "  --confusion_mtrix     Print the confusion matrix.\n",
      "  --top10               Print ten most discriminative terms per class for\n",
      "                        every classifer.\n",
      "  --all_categories      Whether to use all categories or not.\n",
      "  --use_hashing         Use a hashing vectorizer.\n",
      "  --n_features=N_FEATURES\n",
      "                        n_features when using the hashing vectorizer.\n",
      "  --filtered            Remove newsgroup information that is easily overfit:\n",
      "                        headers, signatures, and quoting.\n",
      "\n"
     ]
    }
   ],
   "source": [
    "op = OptionParser()\n",
    "\n",
    "\n",
    "op.add_option( ## add_option() for every command line option that we would like our program to support\n",
    "    \"--report\", ## create a report\n",
    "    action = \"store_true\", ## store a true value\n",
    "    dest = \"print_report\", ## dest specifies the name of the variable that will hold True (true in this case via \"store_true\") or False value once optparse runs\n",
    "    help = \"Print a detailed classification report.\" ## short help string that would tell user what this particular command line option does\n",
    ")\n",
    "\n",
    "\n",
    "op.add_option(\n",
    "    \"--chi2_select\",\n",
    "    action = \"store\", ## take the next argument (or the remainder of the current argument), ensure that it is of the correct type, and store it to your chosen destination\n",
    "    type = \"int\", ## integer type\n",
    "    dest = \"select_chi2\",\n",
    "    help = \"Select some number of features using a chi-squared test.\"\n",
    ")\n",
    "\n",
    "\n",
    "op.add_option(\n",
    "    \"--confusion_mtrix\",\n",
    "    action = \"store_true\",\n",
    "    dest = \"print_cm\",\n",
    "    help = \"Print the confusion matrix.\"\n",
    ")\n",
    "\n",
    "\n",
    "op.add_option(\n",
    "    \"--top10\",\n",
    "    action = \"store_true\",\n",
    "    dest = \"print_top10\",\n",
    "    help = \"Print ten most discriminative terms per class\\nfor every classifer.\"\n",
    ")\n",
    "\n",
    "\n",
    "op.add_option(\n",
    "    \"--all_categories\",\n",
    "    action = \"store_true\",\n",
    "    dest = \"all_categories\",\n",
    "    help = \"Whether to use all categories or not.\"\n",
    ")\n",
    "\n",
    "\n",
    "op.add_option(\n",
    "    \"--use_hashing\", ## hashing = Convert a collection of text documents to a matrix of token occurrences\n",
    "    action = \"store_true\",\n",
    "    help = \"Use a hashing vectorizer.\"\n",
    ")\n",
    "\n",
    "\n",
    "op.add_option(\n",
    "    \"--n_features\",\n",
    "    action = \"store\",\n",
    "    type = int,\n",
    "    default = 2 ** 16,\n",
    "    help = \"n_features when using the hashing vectorizer.\"\n",
    ")\n",
    "\n",
    "\n",
    "op.add_option(\n",
    "    \"--filtered\",\n",
    "    action = \"store_true\",\n",
    "    help = \"Remove newsgroup information that is easily overfit:\\nheaders, signatures, and quoting.\"\n",
    ")\n",
    "\n",
    "\n",
    "def is_interactive(): ## define a new function\n",
    "    return not hasattr( ## hasattr() method returns true if an object has the given named attribute and false if it does not\n",
    "        sys.modules[\"__main__\"],\n",
    "        \"__file__\"\n",
    "    )\n",
    "\n",
    "\n",
    "## work-around for Jupyter notebook and IPython console\n",
    "argv = [] if is_interactive() else sys.argv[1:] ## sys.argv = arguments vector; sys.argv[1:] starting at 1 - inf\n",
    "\n",
    "(opts, args) = op.parse_args(argv) ## write user-friendly command-line interfaces. The program defines what arguments it requires, and argparse will figure out how to parse those out of sys.argv. The argparse module also automatically generates help and usage messages and issues errors when users give the program invalid arguments\n",
    "\n",
    "if len(args) > 0:\n",
    "    op.error(\"this script takes no arguments.\") ## if the length of args >0, then produce the above error msg then exit via next line below\n",
    "    sys.exit(1) ## means there was some issue / error / problem and that is why the program is exiting as opposed to \"exit(0) = a clean exit without any errors / problems\"\n",
    "\n",
    "print(__doc__) ## print documentation for the object we just created \n",
    "\n",
    "op.print_help() ## prints standard output below of the stuff we previous created\n",
    "\n",
    "print()"
   ]
  },
  {
   "cell_type": "markdown",
   "metadata": {},
   "source": [
    "Load some categories from the training set:"
   ]
  },
  {
   "cell_type": "code",
   "execution_count": 4,
   "metadata": {},
   "outputs": [
    {
     "name": "stdout",
     "output_type": "stream",
     "text": [
      "None\n"
     ]
    }
   ],
   "source": [
    "## what is opts doing?\n",
    "print(opts.all_categories)"
   ]
  },
  {
   "cell_type": "code",
   "execution_count": 5,
   "metadata": {},
   "outputs": [],
   "source": [
    "if opts.all_categories:\n",
    "    categories = None\n",
    "else:\n",
    "    categories = [ # the following was selected from a list of the 20 newsgroups, partitioned according to subject matter\n",
    "        \"alt.atheism\",\n",
    "        \"talk.religion.misc\",\n",
    "        \"comp.graphics\",\n",
    "        \"sci.space\"\n",
    "    ]"
   ]
  },
  {
   "cell_type": "code",
   "execution_count": 6,
   "metadata": {},
   "outputs": [
    {
     "name": "stdout",
     "output_type": "stream",
     "text": [
      "None\n"
     ]
    }
   ],
   "source": [
    "print(opts.filtered)"
   ]
  },
  {
   "cell_type": "code",
   "execution_count": 7,
   "metadata": {},
   "outputs": [
    {
     "name": "stdout",
     "output_type": "stream",
     "text": [
      "Loading 20 newsgroups dataset for categories:\n",
      "['alt.atheism', 'talk.religion.misc', 'comp.graphics', 'sci.space']\n"
     ]
    }
   ],
   "source": [
    "if opts.filtered:\n",
    "    remove = (\"headers\", \"footers\", \"quotes\")\n",
    "else:\n",
    "    remove = () ## remove() method removes the element which is passed as an argument so in thise case, its the headers, footers, and quotes\n",
    "    \n",
    "print(\"Loading 20 newsgroups dataset for categories:\")\n",
    "    \n",
    "print(categories if categories else \"all\")"
   ]
  },
  {
   "cell_type": "markdown",
   "metadata": {},
   "source": [
    "Training and Testing Data:"
   ]
  },
  {
   "cell_type": "code",
   "execution_count": 8,
   "metadata": {},
   "outputs": [
    {
     "name": "stdout",
     "output_type": "stream",
     "text": [
      "data loaded\n"
     ]
    }
   ],
   "source": [
    "data_train = fetch_20newsgroups(\n",
    "    subset = \"train\",\n",
    "    categories = categories,\n",
    "    shuffle = True, \n",
    "    random_state = 42,\n",
    "    remove = remove\n",
    ")\n",
    "\n",
    "\n",
    "data_test = fetch_20newsgroups(\n",
    "    subset = \"test\",\n",
    "    categories = categories,\n",
    "    shuffle = True, \n",
    "    random_state = 42,\n",
    "    remove = remove\n",
    ")\n",
    "\n",
    "\n",
    "print(\"data loaded\")"
   ]
  },
  {
   "cell_type": "markdown",
   "metadata": {},
   "source": [
    "The order of labels in `target_names` can be different from `categories`:"
   ]
  },
  {
   "cell_type": "code",
   "execution_count": 9,
   "metadata": {},
   "outputs": [
    {
     "name": "stdout",
     "output_type": "stream",
     "text": [
      "[1 3 2 ... 1 0 1]\n",
      "[2 1 1 ... 3 1 1]\n"
     ]
    }
   ],
   "source": [
    "print(data_train.target) ## this will become the Y var in training\n",
    "print(data_test.target) ## this will become the Y var in testing"
   ]
  },
  {
   "cell_type": "code",
   "execution_count": 10,
   "metadata": {
    "scrolled": true
   },
   "outputs": [
    {
     "name": "stdout",
     "output_type": "stream",
     "text": [
      "['alt.atheism', 'comp.graphics', 'sci.space', 'talk.religion.misc']\n"
     ]
    }
   ],
   "source": [
    "print(data_train.target_names)"
   ]
  },
  {
   "cell_type": "code",
   "execution_count": 11,
   "metadata": {},
   "outputs": [
    {
     "name": "stdout",
     "output_type": "stream",
     "text": [
      "['alt.atheism', 'talk.religion.misc', 'comp.graphics', 'sci.space']\n"
     ]
    }
   ],
   "source": [
    "print(categories)"
   ]
  },
  {
   "cell_type": "code",
   "execution_count": 12,
   "metadata": {},
   "outputs": [],
   "source": [
    "target_names = data_train.target_names\n",
    "\n",
    "def size_mb(docs): ## return the megabyte size of an object\n",
    "    return sum(\n",
    "        len(\n",
    "            s.encode(\"utf-8\") ## method encode() returns an encoded version of the string. Default encoding is the current default string encoding. The errors may be given to set a different error handling scheme.\n",
    "        ) for s in docs \n",
    "    ) / 1e6 ## divide by 1,000,000 which is the byte size of a megabyte\n",
    "\n",
    "\n",
    "data_train_size_mb = size_mb(data_train.data) \n",
    "\n",
    "data_test_size_mb = size_mb(data_test.data)"
   ]
  },
  {
   "cell_type": "code",
   "execution_count": 13,
   "metadata": {},
   "outputs": [
    {
     "name": "stdout",
     "output_type": "stream",
     "text": [
      "3.979536\n"
     ]
    }
   ],
   "source": [
    "print(data_train_size_mb)"
   ]
  },
  {
   "cell_type": "code",
   "execution_count": 14,
   "metadata": {},
   "outputs": [
    {
     "name": "stdout",
     "output_type": "stream",
     "text": [
      "2.86749\n"
     ]
    }
   ],
   "source": [
    "print(data_test_size_mb)"
   ]
  },
  {
   "cell_type": "code",
   "execution_count": 15,
   "metadata": {},
   "outputs": [
    {
     "name": "stdout",
     "output_type": "stream",
     "text": [
      "2034 documents - 3.980MB (training set)\n",
      "1353 documents - 2.867MB (test set)\n",
      "4 categories\n",
      "\n"
     ]
    }
   ],
   "source": [
    "print(\n",
    "    \"%d documents - %0.3fMB (training set)\" %(\n",
    "        len(data_train.data),\n",
    "        data_train_size_mb\n",
    "    )\n",
    ")\n",
    "\n",
    "\n",
    "print(\n",
    "    \"%d documents - %0.3fMB (test set)\" %(\n",
    "        len(data_test.data),\n",
    "        data_test_size_mb\n",
    "    )\n",
    ")\n",
    "\n",
    "\n",
    "print(\n",
    "    \"%d categories\" % len(categories)\n",
    ")\n",
    "\n",
    "\n",
    "\n",
    "print()"
   ]
  },
  {
   "cell_type": "markdown",
   "metadata": {},
   "source": [
    "Split into training and testing:"
   ]
  },
  {
   "cell_type": "code",
   "execution_count": 16,
   "metadata": {},
   "outputs": [
    {
     "name": "stdout",
     "output_type": "stream",
     "text": [
      "65536\n"
     ]
    }
   ],
   "source": [
    "print(opts.n_features)"
   ]
  },
  {
   "cell_type": "code",
   "execution_count": 17,
   "metadata": {},
   "outputs": [
    {
     "name": "stdout",
     "output_type": "stream",
     "text": [
      "Extracting features from the training data using a sparse vectorizer\n",
      "done in 0.826840s at 4.813MB/s\n",
      "n_samples: 2034, n_features: 33809\n",
      "\n"
     ]
    }
   ],
   "source": [
    "y_train, y_test = data_train.target, data_test.target\n",
    "\n",
    "print(\"Extracting features from the training data using a sparse vectorizer\")\n",
    "\n",
    "t0 = time() ## start time\n",
    "\n",
    "if opts.use_hashing: ## if n_features = opts.n_features then use hashing, otherwise use the TfidfVextorizer in the \"else\" part of this code\n",
    "    vectorizer = HashingVectorizer( ## Converts text documents to a matrix of token occurrences\n",
    "        stop_words = \"english\", ## remove english stop words\n",
    "        alternate_sign = False, ## When True, an alternating sign is added to the features as to approximately conserve the inner product in the hashed space even for small n_features. This approach is similar to sparse random projection.\n",
    "        n_features = opts.n_features ## The number of features (columns) in the output matrices. Small numbers of features are likely to cause hash collisions, but large numbers will cause larger coefficient dimensions in linear learners.\n",
    "    ) \n",
    "    \n",
    "    X_train = vectorizer.transform(data_train.data) ## transform the raw text (data_train) using the vectorizer function above\n",
    "else: ## if not \n",
    "    vectorizer = TfidfVectorizer( ## TfidfVectorizer uses a in-memory vocabulary (a python dict) to map the most frequent words to features indices and hence compute a word occurrence frequency (sparse) matrix. The word frequencies are then reweighted using the Inverse Document Frequency (IDF) vector collected feature-wise over the corpus.\n",
    "        sublinear_tf = True, ## Apply sublinear tf scaling, i.e. replace tf with 1 + log(tf) to make it inverse rather than regular tfm\n",
    "        max_df = 0.5, ### When building the vocabulary ignore terms that have a document frequency strictly higher than the given threshold (corpus-specific stop words - specified on the next line). If float, the parameter represents a proportion of documents (here, 0.5 is the prop of docs), integer absolute counts.\n",
    "        stop_words = \"english\"\n",
    "    )\n",
    "    \n",
    "    X_train = vectorizer.fit_transform(data_train.data) ## transform the raw text (data_train) using the vectorizer function above - TFIDF in this part of the function\n",
    "\n",
    "\n",
    "duration = time() - t0 ## how long the above text preprocessing took to run\n",
    "\n",
    "print(\n",
    "    \"done in %fs at %0.3fMB/s\" % (\n",
    "        duration, \n",
    "        data_train_size_mb / duration\n",
    "    )\n",
    ")\n",
    "\n",
    "\n",
    "print(\n",
    "    \"n_samples: %d, n_features: %d\" % X_train.shape\n",
    ")\n",
    "\n",
    "print()"
   ]
  },
  {
   "cell_type": "code",
   "execution_count": 18,
   "metadata": {},
   "outputs": [
    {
     "data": {
      "text/plain": [
       "<2034x33809 sparse matrix of type '<class 'numpy.float64'>'\n",
       "\twith 224893 stored elements in Compressed Sparse Row format>"
      ]
     },
     "execution_count": 18,
     "metadata": {},
     "output_type": "execute_result"
    }
   ],
   "source": [
    "X_train"
   ]
  },
  {
   "cell_type": "markdown",
   "metadata": {},
   "source": [
    "    This is a sparse matrix so `X_train` is a TFIDF matrix."
   ]
  },
  {
   "cell_type": "code",
   "execution_count": 19,
   "metadata": {},
   "outputs": [
    {
     "name": "stdout",
     "output_type": "stream",
     "text": [
      "Extracting features from the test data using the same vectorizer\n",
      "done in 0.480714s at 5.965MB/s\n",
      "n_samples: 1353, n_features: 33809\n",
      "\n"
     ]
    }
   ],
   "source": [
    "print(\"Extracting features from the test data using the same vectorizer\")\n",
    "\n",
    "t0 = time()\n",
    "\n",
    "X_test = vectorizer.transform(data_test.data) ## use the same vectorizer as used for X_train\n",
    "\n",
    "duration = time() - t0\n",
    "\n",
    "print(\n",
    "    \"done in %fs at %0.3fMB/s\" % (\n",
    "        duration, \n",
    "        data_test_size_mb / duration\n",
    "    )\n",
    ")\n",
    "\n",
    "\n",
    "print(\n",
    "    \"n_samples: %d, n_features: %d\" % X_test.shape\n",
    ")\n",
    "\n",
    "\n",
    "print()"
   ]
  },
  {
   "cell_type": "code",
   "execution_count": 20,
   "metadata": {},
   "outputs": [
    {
     "data": {
      "text/plain": [
       "<1353x33809 sparse matrix of type '<class 'numpy.float64'>'\n",
       "\twith 142188 stored elements in Compressed Sparse Row format>"
      ]
     },
     "execution_count": 20,
     "metadata": {},
     "output_type": "execute_result"
    }
   ],
   "source": [
    "X_test"
   ]
  },
  {
   "cell_type": "markdown",
   "metadata": {},
   "source": [
    "Mapping from integer feature name to original token string:"
   ]
  },
  {
   "cell_type": "code",
   "execution_count": 21,
   "metadata": {},
   "outputs": [],
   "source": [
    "if opts.use_hashing:\n",
    "    feature_names = None\n",
    "else:\n",
    "    feature_names = vectorizer.get_feature_names()\n",
    "\n",
    "    \n",
    "if opts.select_chi2:\n",
    "    print(\n",
    "        \"Extracting %d best features by a chi-squared test\" % \n",
    "        opts.select_chi2\n",
    "    )\n",
    "    \n",
    "    t0 = time() ## start time \n",
    "    \n",
    "    ch2 = SelectKBest( ## Select features according to the k highest scores\n",
    "        chi2, ## from this object\n",
    "        k = opts.select_chi2 ## Number of top features to select.\n",
    "    )\n",
    "    \n",
    "    X_train = ch2.fit_transform(\n",
    "        X_train,\n",
    "        y_train\n",
    "    )\n",
    "    \n",
    "    X_test = ch2.transform(X_test)\n",
    "    \n",
    "    if feature_names: ## keep selected feature names\n",
    "        feature_names = [\n",
    "            feature_names[i] for i in ch2.get_support(\n",
    "                indicies = True\n",
    "            )\n",
    "        ]\n",
    "        \n",
    "    print(\n",
    "        \"done in %fs\" % (time() - t0)\n",
    "    )\n",
    "    \n",
    "    print()\n",
    "\n",
    "if feature_names:\n",
    "    feature_names = np.array(feature_names)\n",
    "\n",
    "def trim(s): ## create trim fn that we'll use later \n",
    "    \"\"\"Trim string to fit terminal (assuming 80-column display)\"\"\"\n",
    "    return s if len(s) <= 80 else s[:77] + \"...\" ## character limit per line"
   ]
  },
  {
   "cell_type": "markdown",
   "metadata": {},
   "source": [
    "Benchmark classifiers:"
   ]
  },
  {
   "cell_type": "code",
   "execution_count": 22,
   "metadata": {},
   "outputs": [
    {
     "name": "stdout",
     "output_type": "stream",
     "text": [
      "================================================================================\n",
      "Ridge Classifier\n",
      "________________________________________________________________________________\n",
      "Training: \n",
      "RidgeClassifier(alpha=1.0, class_weight=None, copy_X=True, fit_intercept=True,\n",
      "        max_iter=None, normalize=False, random_state=None, solver='sag',\n",
      "        tol=0.01)\n",
      "train time: 0.327s\n",
      "test time:  0.003s\n",
      "accuracy:   0.896\n",
      "dimensionality: 33809\n",
      "density: 1.000000\n",
      "\n",
      "\n",
      "================================================================================\n",
      "Perceptron\n",
      "________________________________________________________________________________\n",
      "Training: \n",
      "Perceptron(alpha=0.0001, class_weight=None, early_stopping=False, eta0=1.0,\n",
      "      fit_intercept=True, max_iter=50, n_iter=None, n_iter_no_change=5,\n",
      "      n_jobs=None, penalty=None, random_state=0, shuffle=True, tol=0.001,\n",
      "      validation_fraction=0.1, verbose=0, warm_start=False)\n",
      "train time: 0.025s\n",
      "test time:  0.003s\n",
      "accuracy:   0.888\n",
      "dimensionality: 33809\n",
      "density: 0.240114\n",
      "\n",
      "\n",
      "================================================================================\n",
      "Passive-Aggressive\n",
      "________________________________________________________________________________\n",
      "Training: \n",
      "PassiveAggressiveClassifier(C=1.0, average=False, class_weight=None,\n",
      "              early_stopping=False, fit_intercept=True, loss='hinge',\n",
      "              max_iter=50, n_iter=None, n_iter_no_change=5, n_jobs=None,\n",
      "              random_state=None, shuffle=True, tol=0.001,\n",
      "              validation_fraction=0.1, verbose=0, warm_start=False)\n",
      "train time: 0.043s\n",
      "test time:  0.002s\n",
      "accuracy:   0.900\n",
      "dimensionality: 33809\n",
      "density: 0.694578\n",
      "\n",
      "\n",
      "================================================================================\n",
      "kNN\n",
      "________________________________________________________________________________\n",
      "Training: \n",
      "KNeighborsClassifier(algorithm='auto', leaf_size=30, metric='minkowski',\n",
      "           metric_params=None, n_jobs=None, n_neighbors=10, p=2,\n",
      "           weights='uniform')\n",
      "train time: 0.003s\n",
      "test time:  0.249s\n",
      "accuracy:   0.858\n",
      "\n",
      "================================================================================\n",
      "Random forest\n",
      "________________________________________________________________________________\n",
      "Training: \n",
      "RandomForestClassifier(bootstrap=True, class_weight=None, criterion='gini',\n",
      "            max_depth=None, max_features='auto', max_leaf_nodes=None,\n",
      "            min_impurity_decrease=0.0, min_impurity_split=None,\n",
      "            min_samples_leaf=1, min_samples_split=2,\n",
      "            min_weight_fraction_leaf=0.0, n_estimators=100, n_jobs=None,\n",
      "            oob_score=False, random_state=None, verbose=0,\n",
      "            warm_start=False)\n",
      "train time: 1.822s\n",
      "test time:  0.112s\n",
      "accuracy:   0.848\n",
      "\n",
      "================================================================================\n",
      "L2 penalty\n",
      "________________________________________________________________________________\n",
      "Training: \n",
      "LinearSVC(C=1.0, class_weight=None, dual=False, fit_intercept=True,\n",
      "     intercept_scaling=1, loss='squared_hinge', max_iter=1000,\n",
      "     multi_class='ovr', penalty='l2', random_state=None, tol=0.001,\n",
      "     verbose=0)\n",
      "train time: 0.133s\n",
      "test time:  0.002s\n",
      "accuracy:   0.900\n",
      "dimensionality: 33809\n",
      "density: 1.000000\n",
      "\n",
      "\n",
      "________________________________________________________________________________\n",
      "Training: \n",
      "SGDClassifier(alpha=0.0001, average=False, class_weight=None,\n",
      "       early_stopping=False, epsilon=0.1, eta0=0.0, fit_intercept=True,\n",
      "       l1_ratio=0.15, learning_rate='optimal', loss='hinge', max_iter=50,\n",
      "       n_iter=None, n_iter_no_change=5, n_jobs=None, penalty='l2',\n",
      "       power_t=0.5, random_state=None, shuffle=True, tol=None,\n",
      "       validation_fraction=0.1, verbose=0, warm_start=False)\n",
      "train time: 0.178s\n",
      "test time:  0.004s\n",
      "accuracy:   0.902\n",
      "dimensionality: 33809\n",
      "density: 0.666368\n",
      "\n",
      "\n",
      "================================================================================\n",
      "L1 penalty\n",
      "________________________________________________________________________________\n",
      "Training: \n",
      "LinearSVC(C=1.0, class_weight=None, dual=False, fit_intercept=True,\n",
      "     intercept_scaling=1, loss='squared_hinge', max_iter=1000,\n",
      "     multi_class='ovr', penalty='l1', random_state=None, tol=0.001,\n",
      "     verbose=0)\n",
      "train time: 0.302s\n",
      "test time:  0.002s\n",
      "accuracy:   0.873\n",
      "dimensionality: 33809\n",
      "density: 0.005531\n",
      "\n",
      "\n",
      "________________________________________________________________________________\n",
      "Training: \n",
      "SGDClassifier(alpha=0.0001, average=False, class_weight=None,\n",
      "       early_stopping=False, epsilon=0.1, eta0=0.0, fit_intercept=True,\n",
      "       l1_ratio=0.15, learning_rate='optimal', loss='hinge', max_iter=50,\n",
      "       n_iter=None, n_iter_no_change=5, n_jobs=None, penalty='l1',\n",
      "       power_t=0.5, random_state=None, shuffle=True, tol=None,\n",
      "       validation_fraction=0.1, verbose=0, warm_start=False)\n",
      "train time: 0.550s\n",
      "test time:  0.004s\n",
      "accuracy:   0.885\n",
      "dimensionality: 33809\n",
      "density: 0.020143\n",
      "\n",
      "\n"
     ]
    }
   ],
   "source": [
    "def benchmark(clf): ## create benchmark fn that we'll use later\n",
    "    print('_' * 80)\n",
    "    print(\"Training: \")\n",
    "    print(clf)\n",
    "    t0 = time()\n",
    "    clf.fit(\n",
    "        X_train, \n",
    "        y_train\n",
    "    )\n",
    "    train_time = time() - t0\n",
    "    print(\"train time: %0.3fs\" % train_time)\n",
    "\n",
    "    t0 = time()\n",
    "    pred = clf.predict(X_test)\n",
    "    test_time = time() - t0\n",
    "    print(\"test time:  %0.3fs\" % test_time)\n",
    "\n",
    "    score = metrics.accuracy_score( ## classification accuracy score\n",
    "        y_test,\n",
    "        pred\n",
    "    )\n",
    "    print(\"accuracy:   %0.3f\" % score)\n",
    "\n",
    "    if hasattr(clf, 'coef_'):\n",
    "        print(\"dimensionality: %d\" % clf.coef_.shape[1])\n",
    "        print(\"density: %f\" % density(clf.coef_))\n",
    "\n",
    "        if opts.print_top10 and feature_names is not None:\n",
    "            print(\"top 10 keywords per class:\")\n",
    "            for i, label in enumerate(target_names):\n",
    "                top10 = np.argsort(clf.coef_[i])[-10:]\n",
    "                print(trim(\"%s: %s\" % (label, \" \".join(feature_names[top10]))))\n",
    "        print()\n",
    "\n",
    "    if opts.print_report:\n",
    "        print(\"classification report:\")\n",
    "        print(\n",
    "            metrics.classification_report(\n",
    "            y_test, \n",
    "            pred,\n",
    "            target_names = target_names\n",
    "            )\n",
    "        )\n",
    "\n",
    "    if opts.print_cm:\n",
    "        print(\"confusion matrix:\")\n",
    "        print(\n",
    "            metrics.confusion_matrix(\n",
    "                y_test, \n",
    "                pred\n",
    "            )\n",
    "        )\n",
    "\n",
    "    print()\n",
    "    clf_descr = str(clf).split('(')[0]\n",
    "    return clf_descr, score, train_time, test_time\n",
    "\n",
    "\n",
    "results = []\n",
    "for clf, name in (\n",
    "        (\n",
    "            RidgeClassifier(\n",
    "                tol = 1e-2, \n",
    "                solver = \"sag\"\n",
    "            ), \n",
    "            \"Ridge Classifier\"\n",
    "        ),\n",
    "        (\n",
    "            Perceptron(\n",
    "                max_iter = 50, \n",
    "                tol = 1e-3\n",
    "            ), \n",
    "            \"Perceptron\"\n",
    "        ),\n",
    "        (\n",
    "            PassiveAggressiveClassifier(\n",
    "                max_iter = 50, \n",
    "                tol = 1e-3\n",
    "            ),\n",
    "            \"Passive-Aggressive\"\n",
    "        ),\n",
    "        (\n",
    "            KNeighborsClassifier(\n",
    "                n_neighbors = 10\n",
    "            ), \n",
    "            \"kNN\"\n",
    "        ),\n",
    "        (\n",
    "            RandomForestClassifier(n_estimators = 100), \n",
    "            \"Random forest\"\n",
    "        )\n",
    "):\n",
    "    print('=' * 80)\n",
    "    print(name)\n",
    "    results.append(benchmark(clf))\n",
    "\n",
    "for penalty in [\"l2\", \"l1\"]:\n",
    "    print('=' * 80)\n",
    "    print(\"%s penalty\" % penalty.upper())\n",
    "    # Train Liblinear model\n",
    "    results.append(\n",
    "        benchmark(\n",
    "            LinearSVC(\n",
    "                penalty = penalty, \n",
    "                dual = False,\n",
    "                tol = 1e-3\n",
    "            )\n",
    "        )\n",
    "    )\n",
    "\n",
    "    # Train SGD model\n",
    "    results.append(\n",
    "        benchmark(\n",
    "            SGDClassifier(\n",
    "                alpha = 0.0001, \n",
    "                max_iter = 50,\n",
    "                penalty = penalty\n",
    "            )\n",
    "        )\n",
    "    )"
   ]
  },
  {
   "cell_type": "markdown",
   "metadata": {},
   "source": [
    "Train SGD (Stochastic Gradient Descent) with Elastic Net penalty:"
   ]
  },
  {
   "cell_type": "code",
   "execution_count": 23,
   "metadata": {},
   "outputs": [
    {
     "name": "stdout",
     "output_type": "stream",
     "text": [
      "================================================================================\n",
      "Elastic-Net penalty\n",
      "________________________________________________________________________________\n",
      "Training: \n",
      "SGDClassifier(alpha=0.0001, average=False, class_weight=None,\n",
      "       early_stopping=False, epsilon=0.1, eta0=0.0, fit_intercept=True,\n",
      "       l1_ratio=0.15, learning_rate='optimal', loss='hinge', max_iter=50,\n",
      "       n_iter=None, n_iter_no_change=5, n_jobs=None, penalty='elasticnet',\n",
      "       power_t=0.5, random_state=None, shuffle=True, tol=None,\n",
      "       validation_fraction=0.1, verbose=0, warm_start=False)\n",
      "train time: 0.849s\n",
      "test time:  0.003s\n",
      "accuracy:   0.902\n",
      "dimensionality: 33809\n",
      "density: 0.187517\n",
      "\n",
      "\n"
     ]
    }
   ],
   "source": [
    "print('=' * 80)\n",
    "print(\"Elastic-Net penalty\")\n",
    "results.append(\n",
    "    benchmark(\n",
    "        SGDClassifier(\n",
    "            alpha = 0.0001, \n",
    "            max_iter = 50,\n",
    "            penalty = \"elasticnet\"\n",
    "        )\n",
    "    )\n",
    ")"
   ]
  },
  {
   "cell_type": "markdown",
   "metadata": {},
   "source": [
    "Train NearestCentroid without threshold:"
   ]
  },
  {
   "cell_type": "code",
   "execution_count": 24,
   "metadata": {},
   "outputs": [
    {
     "name": "stdout",
     "output_type": "stream",
     "text": [
      "================================================================================\n",
      "NearestCentroid (aka Rocchio classifier)\n",
      "________________________________________________________________________________\n",
      "Training: \n",
      "NearestCentroid(metric='euclidean', shrink_threshold=None)\n",
      "train time: 0.014s\n",
      "test time:  0.006s\n",
      "accuracy:   0.855\n",
      "\n"
     ]
    }
   ],
   "source": [
    "print('=' * 80)\n",
    "print(\"NearestCentroid (aka Rocchio classifier)\")\n",
    "results.append(\n",
    "    benchmark(\n",
    "        NearestCentroid()\n",
    "    )\n",
    ")"
   ]
  },
  {
   "cell_type": "markdown",
   "metadata": {},
   "source": [
    "Train sparse Naive Bayes classifiers:"
   ]
  },
  {
   "cell_type": "code",
   "execution_count": 25,
   "metadata": {},
   "outputs": [
    {
     "name": "stdout",
     "output_type": "stream",
     "text": [
      "================================================================================\n",
      "Naive Bayes\n",
      "________________________________________________________________________________\n",
      "Training: \n",
      "MultinomialNB(alpha=0.01, class_prior=None, fit_prior=True)\n",
      "train time: 0.014s\n",
      "test time:  0.003s\n",
      "accuracy:   0.899\n",
      "dimensionality: 33809\n",
      "density: 1.000000\n",
      "\n",
      "\n",
      "________________________________________________________________________________\n",
      "Training: \n",
      "BernoulliNB(alpha=0.01, binarize=0.0, class_prior=None, fit_prior=True)\n",
      "train time: 0.014s\n",
      "test time:  0.010s\n",
      "accuracy:   0.884\n",
      "dimensionality: 33809\n",
      "density: 1.000000\n",
      "\n",
      "\n",
      "________________________________________________________________________________\n",
      "Training: \n",
      "ComplementNB(alpha=0.1, class_prior=None, fit_prior=True, norm=False)\n",
      "train time: 0.014s\n",
      "test time:  0.003s\n",
      "accuracy:   0.911\n",
      "dimensionality: 33809\n",
      "density: 1.000000\n",
      "\n",
      "\n",
      "================================================================================\n",
      "LinearSVC with L1-based feature selection\n",
      "________________________________________________________________________________\n",
      "Training: \n",
      "Pipeline(memory=None,\n",
      "     steps=[('feature_selection', SelectFromModel(estimator=LinearSVC(C=1.0, class_weight=None, dual=False, fit_intercept=True,\n",
      "     intercept_scaling=1, loss='squared_hinge', max_iter=1000,\n",
      "     multi_class='ovr', penalty='l1', random_state=None, tol=0.001,\n",
      "     verbose=0),\n",
      "        max_features=None, no...ax_iter=1000,\n",
      "     multi_class='ovr', penalty='l2', random_state=None, tol=0.0001,\n",
      "     verbose=0))])\n",
      "train time: 0.355s\n",
      "test time:  0.004s\n",
      "accuracy:   0.880\n",
      "\n"
     ]
    }
   ],
   "source": [
    "print('=' * 80)\n",
    "print(\"Naive Bayes\")\n",
    "results.append(\n",
    "    benchmark(\n",
    "        MultinomialNB(alpha = 0.01)\n",
    "    )\n",
    ")\n",
    "results.append(\n",
    "    benchmark(\n",
    "        BernoulliNB(alpha = 0.01)\n",
    "    )\n",
    ")\n",
    "results.append(\n",
    "    benchmark(\n",
    "        ComplementNB(alpha = 0.1)\n",
    "    )\n",
    ")\n",
    "\n",
    "print('=' * 80)\n",
    "print(\"LinearSVC with L1-based feature selection\")\n",
    "# The smaller C, the stronger the regularization.\n",
    "# The more regularization, the more sparsity.\n",
    "results.append(\n",
    "    benchmark(\n",
    "        Pipeline(\n",
    "            [\n",
    "                (\n",
    "                    'feature_selection', \n",
    "                    SelectFromModel(\n",
    "                        LinearSVC(\n",
    "                            penalty = \"l1\", \n",
    "                            dual = False,\n",
    "                            tol = 1e-3\n",
    "                        )\n",
    "                    )\n",
    "                ),\n",
    "                (\n",
    "                    'classification', \n",
    "                    LinearSVC(penalty = \"l2\")\n",
    "                )\n",
    "            ]\n",
    "        )\n",
    "    )\n",
    ")"
   ]
  },
  {
   "cell_type": "markdown",
   "metadata": {},
   "source": [
    "Plot:"
   ]
  },
  {
   "cell_type": "code",
   "execution_count": 26,
   "metadata": {},
   "outputs": [
    {
     "data": {
      "image/png": "[encoded data removed]",
      "text/plain": [
       "<Figure size 864x576 with 1 Axes>"
      ]
     },
     "metadata": {
      "needs_background": "light"
     },
     "output_type": "display_data"
    }
   ],
   "source": [
    "indices = np.arange(\n",
    "    len(results)\n",
    ")\n",
    "\n",
    "results = [[x[i] for x in results] for i in range(4)]\n",
    "\n",
    "clf_names, score, training_time, test_time = results\n",
    "\n",
    "training_time = np.array(training_time) / np.max(training_time)\n",
    "\n",
    "test_time = np.array(test_time) / np.max(test_time)\n",
    "\n",
    "plt.figure(figsize = (12, 8));\n",
    "\n",
    "plt.title(\"Text Classification Results by Model Type\");\n",
    "\n",
    "plt.barh(\n",
    "    indices, \n",
    "    score, \n",
    "    0.2, \n",
    "    label = \"Classification Accuracy Score\", \n",
    "    color = 'navy'\n",
    ");\n",
    "\n",
    "plt.barh(\n",
    "    indices + 0.3, \n",
    "    training_time, \n",
    "    0.2, \n",
    "    label = \"Training Time (Seconds)\",\n",
    "    color = 'c'\n",
    ");\n",
    "\n",
    "plt.barh(\n",
    "    indices + 0.6, \n",
    "    test_time, \n",
    "    0.2, \n",
    "    label = \"Test Time (Seconds)\", \n",
    "    color = 'darkorange'\n",
    ");\n",
    "\n",
    "plt.yticks(());\n",
    "\n",
    "plt.legend(loc = 'best');\n",
    "\n",
    "plt.subplots_adjust(left = 0.25);\n",
    "\n",
    "plt.subplots_adjust(top = 0.95);\n",
    "\n",
    "plt.subplots_adjust(bottom = 0.05);\n",
    "\n",
    "for i, c in zip(indices, clf_names):\n",
    "    plt.text(\n",
    "        -0.3, \n",
    "        i, \n",
    "        c\n",
    "    )\n",
    "\n",
    "plt.show();"
   ]
  }
 ],
 "metadata": {
  "kernelspec": {
   "display_name": "Python 3",
   "language": "python",
   "name": "python3"
  },
  "language_info": {
   "codemirror_mode": {
    "name": "ipython",
    "version": 3
   },
   "file_extension": ".py",
   "mimetype": "text/x-python",
   "name": "python",
   "nbconvert_exporter": "python",
   "pygments_lexer": "ipython3",
   "version": "3.7.0"
  },
  "toc": {
   "base_numbering": 1,
   "nav_menu": {
    "height": "475.994px",
    "width": "488.996px"
   },
   "number_sections": true,
   "sideBar": true,
   "skip_h1_title": false,
   "title_cell": "Table of Contents",
   "title_sidebar": "Contents",
   "toc_cell": true,
   "toc_position": {},
   "toc_section_display": true,
   "toc_window_display": false
  }
 },
 "nbformat": 4,
 "nbformat_minor": 2
}
