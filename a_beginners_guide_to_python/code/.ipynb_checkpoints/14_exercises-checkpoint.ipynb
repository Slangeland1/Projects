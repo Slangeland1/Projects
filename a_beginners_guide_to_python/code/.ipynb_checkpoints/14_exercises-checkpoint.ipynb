{
 "cells": [
  {
   "cell_type": "markdown",
   "metadata": {
    "toc": true
   },
   "source": [
    "<h1>Table of Contents<span class=\"tocSkip\"></span></h1>\n",
    "<div class=\"toc\"><ul class=\"toc-item\"><li><span><a href=\"#Character-Input\" data-toc-modified-id=\"Character-Input-1\"><span class=\"toc-item-num\">1&nbsp;&nbsp;</span>Character Input</a></span></li><li><span><a href=\"#Odd-or-Even\" data-toc-modified-id=\"Odd-or-Even-2\"><span class=\"toc-item-num\">2&nbsp;&nbsp;</span>Odd or Even</a></span></li></ul></div>"
   ]
  },
  {
   "cell_type": "markdown",
   "metadata": {},
   "source": [
    "__File Info:__\n",
    "\n",
    "Date: 20190426\n",
    "\n",
    "Author: Stephanie Langeland \n",
    "\n",
    "File Name: 14_exercises.ipynb\n",
    "\n",
    "Version: 01\n",
    "\n",
    "Previous Version/File: None\n",
    "\n",
    "Dependencies: None\n",
    "\n",
    "Purpose: Python exercises from https://www.practicepython.org/\n",
    "\n",
    "Input File(s): None\n",
    "\n",
    "Output File(s): None\n",
    "\n",
    "Required by: A beginner's guide to Python.\n",
    "\n",
    "Status: In progress\n",
    "\n",
    "Machine: Dell Latitude - Windows 10\n",
    "\n",
    "Python Version: Python 3"
   ]
  },
  {
   "cell_type": "markdown",
   "metadata": {},
   "source": [
    "# Character Input \n",
    "\n",
    "Source: https://www.practicepython.org/exercise/2014/01/29/01-character-input.html\n",
    "\n",
    "Create a program that asks the user to enter their name and their age. Print out a message addressed to them that tells them the year that they will turn 100 years old.  Use the `input` function."
   ]
  },
  {
   "cell_type": "code",
   "execution_count": 9,
   "metadata": {},
   "outputs": [],
   "source": [
    "import datetime"
   ]
  },
  {
   "cell_type": "code",
   "execution_count": 11,
   "metadata": {},
   "outputs": [
    {
     "name": "stdout",
     "output_type": "stream",
     "text": [
      "What is your name? Stephanie\n",
      "How old are you (in years)? 26\n",
      "Stephanie you will turn 100 years old in the year 2093 .\n"
     ]
    }
   ],
   "source": [
    "name = input(\"What is your name? \")\n",
    "\n",
    "age = int(input(\"How old are you (in years)? \"))\n",
    "\n",
    "today = datetime.datetime.now() ## current date\n",
    "    \n",
    "remaining_years = 100 - age\n",
    "    \n",
    "hundredth_year_number = remaining_years + today.year\n",
    "\n",
    "print(name, \"you will turn 100 years old in the year\", hundredth_year_number)"
   ]
  },
  {
   "cell_type": "markdown",
   "metadata": {},
   "source": [
    "Add on to the previous program by asking the user for another number and printing out that many copies of the previous message. (Hint: order of operations exists in Python)\n",
    "\n",
    "Print out that many copies of the previous message on separate lines. (Hint: the string \"\\n is the same as pressing the ENTER button)"
   ]
  },
  {
   "cell_type": "code",
   "execution_count": 18,
   "metadata": {},
   "outputs": [
    {
     "name": "stdout",
     "output_type": "stream",
     "text": [
      "What is your name? stephanie\n",
      "How old are you (in years)? 26\n",
      "How many times would you like your result printed? 3\n",
      "stephanie you will turn 100 years old in the year 2093 \n",
      " stephanie you will turn 100 years old in the year 2093 \n",
      " stephanie you will turn 100 years old in the year 2093 \n",
      "\n"
     ]
    }
   ],
   "source": [
    "name = input(\"What is your name? \")\n",
    "\n",
    "age = int(input(\"How old are you (in years)? \"))\n",
    "\n",
    "print_times = int(input(\"How many times would you like your result printed? \"))\n",
    "\n",
    "today = datetime.datetime.now() ## current date\n",
    "    \n",
    "remaining_years = 100 - age\n",
    "    \n",
    "hundredth_year_number = remaining_years + today.year\n",
    "\n",
    "print(\n",
    "    *print_times*\n",
    "    (name, \"you will turn 100 years old in the year\", hundredth_year_number, \"\\n\")\n",
    ")"
   ]
  },
  {
   "cell_type": "markdown",
   "metadata": {},
   "source": [
    "# Odd or Even \n",
    "\n",
    "Source: https://www.practicepython.org/exercise/2014/02/05/02-odd-or-even.html\n",
    "\n",
    "Ask the user for a number. Depending on whether the number is even or odd, print out an appropriate message to the user. \n",
    "Hint: how does an even / odd number react differently when divided by 2?"
   ]
  },
  {
   "cell_type": "code",
   "execution_count": 28,
   "metadata": {},
   "outputs": [
    {
     "name": "stdout",
     "output_type": "stream",
     "text": [
      "What is your favorite whole number? 99\n",
      "99 is an odd number.\n"
     ]
    }
   ],
   "source": [
    "number_choice = int(input(\"What is your favorite whole number? \"))\n",
    "\n",
    "if number_choice % 2 != 0:\n",
    "    print(number_choice, \"is an odd number.\")\n",
    "else:\n",
    "    print(number_choice, \"is an even number.\")"
   ]
  },
  {
   "cell_type": "markdown",
   "metadata": {},
   "source": [
    "If the number is a multiple of 4, print out a different message."
   ]
  },
  {
   "cell_type": "code",
   "execution_count": 53,
   "metadata": {},
   "outputs": [
    {
     "name": "stdout",
     "output_type": "stream",
     "text": [
      "What is your favorite whole number? 11\n",
      "11 is an odd number.\n"
     ]
    }
   ],
   "source": [
    "number_choice = int(input(\"What is your favorite whole number? \"))\n",
    "\n",
    "if number_choice % 2 != 0:\n",
    "    print(number_choice, \"is an odd number.\")\n",
    "elif (number_choice % 2 == 0) & (number_choice % 4 > 0):\n",
    "    print(number_choice, \"is an even number.\")\n",
    "elif (number_choice % 2 == 0) & (number_choice % 4 == 0):\n",
    "    print(number_choice, \"is a multiple of four.\")"
   ]
  },
  {
   "cell_type": "markdown",
   "metadata": {},
   "source": [
    "Ask the user for two numbers: one number to check (call it `num`) and one number to divide by (`check`). If `check` divides evenly into `num`, tell that to the user. If not, print a different appropriate message."
   ]
  },
  {
   "cell_type": "code",
   "execution_count": null,
   "metadata": {},
   "outputs": [],
   "source": []
  },
  {
   "cell_type": "code",
   "execution_count": null,
   "metadata": {},
   "outputs": [],
   "source": []
  },
  {
   "cell_type": "code",
   "execution_count": null,
   "metadata": {},
   "outputs": [],
   "source": []
  },
  {
   "cell_type": "code",
   "execution_count": null,
   "metadata": {},
   "outputs": [],
   "source": []
  },
  {
   "cell_type": "code",
   "execution_count": null,
   "metadata": {},
   "outputs": [],
   "source": []
  },
  {
   "cell_type": "code",
   "execution_count": null,
   "metadata": {},
   "outputs": [],
   "source": []
  },
  {
   "cell_type": "code",
   "execution_count": null,
   "metadata": {},
   "outputs": [],
   "source": []
  },
  {
   "cell_type": "code",
   "execution_count": null,
   "metadata": {},
   "outputs": [],
   "source": []
  },
  {
   "cell_type": "code",
   "execution_count": null,
   "metadata": {},
   "outputs": [],
   "source": []
  },
  {
   "cell_type": "code",
   "execution_count": 20,
   "metadata": {},
   "outputs": [
    {
     "data": {
      "text/plain": [
       "1"
      ]
     },
     "execution_count": 20,
     "metadata": {},
     "output_type": "execute_result"
    }
   ],
   "source": [
    "21 % 2"
   ]
  },
  {
   "cell_type": "code",
   "execution_count": null,
   "metadata": {},
   "outputs": [],
   "source": []
  },
  {
   "cell_type": "code",
   "execution_count": null,
   "metadata": {},
   "outputs": [],
   "source": []
  },
  {
   "cell_type": "code",
   "execution_count": null,
   "metadata": {},
   "outputs": [],
   "source": []
  },
  {
   "cell_type": "code",
   "execution_count": null,
   "metadata": {},
   "outputs": [],
   "source": []
  },
  {
   "cell_type": "code",
   "execution_count": null,
   "metadata": {},
   "outputs": [],
   "source": []
  },
  {
   "cell_type": "code",
   "execution_count": null,
   "metadata": {},
   "outputs": [],
   "source": []
  },
  {
   "cell_type": "code",
   "execution_count": null,
   "metadata": {},
   "outputs": [],
   "source": []
  },
  {
   "cell_type": "code",
   "execution_count": null,
   "metadata": {},
   "outputs": [],
   "source": []
  },
  {
   "cell_type": "code",
   "execution_count": null,
   "metadata": {},
   "outputs": [],
   "source": []
  },
  {
   "cell_type": "code",
   "execution_count": null,
   "metadata": {},
   "outputs": [],
   "source": []
  },
  {
   "cell_type": "code",
   "execution_count": null,
   "metadata": {},
   "outputs": [],
   "source": []
  },
  {
   "cell_type": "code",
   "execution_count": null,
   "metadata": {},
   "outputs": [],
   "source": []
  }
 ],
 "metadata": {
  "hide_input": false,
  "kernelspec": {
   "display_name": "Python 3",
   "language": "python",
   "name": "python3"
  },
  "language_info": {
   "codemirror_mode": {
    "name": "ipython",
    "version": 3
   },
   "file_extension": ".py",
   "mimetype": "text/x-python",
   "name": "python",
   "nbconvert_exporter": "python",
   "pygments_lexer": "ipython3",
   "version": "3.7.0"
  },
  "toc": {
   "base_numbering": 1,
   "nav_menu": {},
   "number_sections": true,
   "sideBar": false,
   "skip_h1_title": false,
   "title_cell": "Table of Contents",
   "title_sidebar": "Contents",
   "toc_cell": true,
   "toc_position": {},
   "toc_section_display": true,
   "toc_window_display": false
  }
 },
 "nbformat": 4,
 "nbformat_minor": 2
}
