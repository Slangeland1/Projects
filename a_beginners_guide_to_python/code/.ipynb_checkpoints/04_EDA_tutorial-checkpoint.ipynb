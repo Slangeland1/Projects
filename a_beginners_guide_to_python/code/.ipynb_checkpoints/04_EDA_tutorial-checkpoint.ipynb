{
 "cells": [
  {
   "cell_type": "markdown",
   "metadata": {
    "toc": true
   },
   "source": [
    "<h1>Table of Contents<span class=\"tocSkip\"></span></h1>\n",
    "<div class=\"toc\"><ul class=\"toc-item\"><li><span><a href=\"#Prep\" data-toc-modified-id=\"Prep-1\"><span class=\"toc-item-num\">1&nbsp;&nbsp;</span>Prep</a></span></li><li><span><a href=\"#Housing-price-distribution\" data-toc-modified-id=\"Housing-price-distribution-2\"><span class=\"toc-item-num\">2&nbsp;&nbsp;</span>Housing price distribution</a></span></li><li><span><a href=\"#Numerical-Data-Distribution\" data-toc-modified-id=\"Numerical-Data-Distribution-3\"><span class=\"toc-item-num\">3&nbsp;&nbsp;</span>Numerical Data Distribution</a></span></li><li><span><a href=\"#Correlation\" data-toc-modified-id=\"Correlation-4\"><span class=\"toc-item-num\">4&nbsp;&nbsp;</span>Correlation</a></span></li><li><span><a href=\"#Feature-to-feature-relationship\" data-toc-modified-id=\"Feature-to-feature-relationship-5\"><span class=\"toc-item-num\">5&nbsp;&nbsp;</span>Feature to feature relationship</a></span></li><li><span><a href=\"#Q--&gt;-Q-(Quantitative-to-Quantitative-relationship)\" data-toc-modified-id=\"Q-->-Q-(Quantitative-to-Quantitative-relationship)-6\"><span class=\"toc-item-num\">6&nbsp;&nbsp;</span>Q -&gt; Q (Quantitative to Quantitative relationship)</a></span></li><li><span><a href=\"#C--&gt;-Q-(Categorical-to-Quantitative-relationship)\" data-toc-modified-id=\"C-->-Q-(Categorical-to-Quantitative-relationship)-7\"><span class=\"toc-item-num\">7&nbsp;&nbsp;</span>C -&gt; Q (Categorical to Quantitative relationship)</a></span></li></ul></div>"
   ]
  },
  {
   "cell_type": "markdown",
   "metadata": {},
   "source": [
    "__File Info:__\n",
    "\n",
    "Date: 20181023\n",
    "\n",
    "Author: Stephanie Langeland \n",
    "\n",
    "File Name: 04_EDA_tutorial.ipynb\n",
    "\n",
    "Version: 01\n",
    "\n",
    "Previous Version/File: None\n",
    "\n",
    "Dependencies: Data dictionary: \".\\data_info\\data_description.txt\"\n",
    "\n",
    "Purpose: Detailed exploratory data analysis with Python\n",
    "\n",
    "Input File(s): train.csv\n",
    "\n",
    "Output File(s): None\n",
    "\n",
    "Required by: \n",
    " - A beginner's guide to Python.\n",
    " - Tutorial: https://www.kaggle.com/ekami66/detailed-exploratory-data-analysis-with-python/notebook\n",
    "\n",
    "Status: Complete\n",
    "\n",
    "Machine: Dell Latitude - Windows 10\n",
    "\n",
    "Python Version: Python 3"
   ]
  },
  {
   "cell_type": "markdown",
   "metadata": {},
   "source": [
    "# Prep"
   ]
  },
  {
   "cell_type": "code",
   "execution_count": null,
   "metadata": {},
   "outputs": [],
   "source": [
    "## Import packages:\n",
    "import pandas as pd\n",
    "import seaborn as sns\n",
    "import matplotlib.pyplot as plt\n",
    "import operator ## to use Standard operators as functions"
   ]
  },
  {
   "cell_type": "code",
   "execution_count": null,
   "metadata": {},
   "outputs": [],
   "source": [
    "# Comment this if the data visualizsations doesn't work on your side\n",
    "%matplotlib inline\n",
    "\n",
    "plt.style.use('bmh')"
   ]
  },
  {
   "cell_type": "code",
   "execution_count": null,
   "metadata": {},
   "outputs": [],
   "source": [
    "## Import training data:\n",
    "df = pd.read_csv(\"C:/Users/stephanie.langeland/OneDrive - Slalom/bit_bucket/a_beginners_guide_to_python/input_output_files/train.csv\")\n",
    "\n",
    "df.head()"
   ]
  },
  {
   "cell_type": "code",
   "execution_count": null,
   "metadata": {},
   "outputs": [],
   "source": [
    "df.info()"
   ]
  },
  {
   "cell_type": "markdown",
   "metadata": {},
   "source": [
    "Let's just remove Id and the features with 30% or more NaN values:"
   ]
  },
  {
   "cell_type": "code",
   "execution_count": null,
   "metadata": {
    "scrolled": true
   },
   "outputs": [],
   "source": [
    "df2 = df[ ## create a copy of df\n",
    "    [\n",
    "        column for column in df if df[\n",
    "            column\n",
    "        ].count() / len(df) >= 0.3\n",
    "    ]\n",
    "] ## identify columns in df that have >= 30% NaN values\n",
    "\n",
    "del df2['Id'] ## delete this column\n",
    "\n",
    "print(\n",
    "    \"List of dropped columns:\",\n",
    "    end = \" \"\n",
    ") \n",
    "\n",
    "for c in df.columns:\n",
    "    if c not in df2.columns:\n",
    "        print(\n",
    "            c,\n",
    "            end = \", \"\n",
    "        )\n",
    "print(\"\\n\") ## list the previously identified columns\n",
    "\n",
    "df = df2 ## overwrite df as df2"
   ]
  },
  {
   "cell_type": "markdown",
   "metadata": {},
   "source": [
    "# Housing price distribution"
   ]
  },
  {
   "cell_type": "code",
   "execution_count": null,
   "metadata": {},
   "outputs": [],
   "source": [
    "print(\n",
    "    df[\"SalePrice\"].describe()\n",
    ")\n",
    "\n",
    "plt.figure(\n",
    "    figsize = (9, 8)\n",
    ")\n",
    "\n",
    "sns.distplot(\n",
    "    df[\"SalePrice\"],\n",
    "    color = \"g\",\n",
    "    bins = 100,\n",
    "    hist_kws = {\"alpha\": 0.4}\n",
    ")"
   ]
  },
  {
   "cell_type": "markdown",
   "metadata": {},
   "source": [
    "# Numerical Data Distribution\n",
    "\n",
    "For this part lets look at the distribution of all of the features by plotting them.  \n",
    "\n",
    "To do so lets first list all the types of our data from our data set and take only the numerical ones:"
   ]
  },
  {
   "cell_type": "code",
   "execution_count": null,
   "metadata": {},
   "outputs": [],
   "source": [
    "list(\n",
    "    set(\n",
    "        df.dtypes.tolist()\n",
    "    )\n",
    ")"
   ]
  },
  {
   "cell_type": "code",
   "execution_count": null,
   "metadata": {},
   "outputs": [],
   "source": [
    "df_num = df.select_dtypes(include = [\"float64\", \"int64\"])\n",
    "\n",
    "df_num.head()"
   ]
  },
  {
   "cell_type": "markdown",
   "metadata": {},
   "source": [
    "Plot all numerical features' distributions:"
   ]
  },
  {
   "cell_type": "code",
   "execution_count": null,
   "metadata": {},
   "outputs": [],
   "source": [
    "df_num.hist(\n",
    "    figsize = (16, 20),\n",
    "    bins = 50,\n",
    "    xlabelsize = 8,\n",
    "    ylabelsize = 8\n",
    "); ## use the \";\" to avoid verbose matplotlib information displayed "
   ]
  },
  {
   "cell_type": "markdown",
   "metadata": {},
   "source": [
    "# Correlation\n",
    "\n",
    "Now we'll try to find which features are strongly correlated with `SalePrice`. We'll store them in a var called `golden_features_list`. We'll reuse our `df_num` data set to do so."
   ]
  },
  {
   "cell_type": "code",
   "execution_count": null,
   "metadata": {},
   "outputs": [],
   "source": [
    "df_num.head()"
   ]
  },
  {
   "cell_type": "code",
   "execution_count": null,
   "metadata": {},
   "outputs": [],
   "source": [
    "df_num_corr = df_num.corr()[\"SalePrice\"][:-1] ## correlations of each variable with SalePrice (which is the last column)\n",
    "\n",
    "golden_features_list = df_num_corr[\n",
    "    abs(\n",
    "        df_num_corr\n",
    "    ) > 0.5 ## identify which variables have a correlation of more than 0.5 with SalePrice\n",
    "].sort_values(\n",
    "    ascending = False ## sort them in descending order\n",
    ")\n",
    "\n",
    "print(\n",
    "    \"There are {} strongly correlated values with SalePrice:\\n{}\".format(\n",
    "        len(\n",
    "            golden_features_list\n",
    "        ), ## insert this length in the {} after \"There are\" above\n",
    "        golden_features_list ## display this object \n",
    "    )\n",
    ")"
   ]
  },
  {
   "cell_type": "markdown",
   "metadata": {},
   "source": [
    "Explore the affect of outliers on the above correlations:\n",
    "\n",
    " - Plot the numerical features - which variables have very few or explainable outliers?\n",
    "\n",
    " - Remove the outliers from these features - which variables still have  strong correlations with SalePrice without outliers?"
   ]
  },
  {
   "cell_type": "code",
   "execution_count": null,
   "metadata": {},
   "outputs": [],
   "source": [
    "for i in range(\n",
    "    0, ## start\n",
    "    len(df_num.columns), ## stop\n",
    "    5 ## step\n",
    "):\n",
    "    sns.pairplot(\n",
    "        data = df_num,\n",
    "        x_vars = df_num.columns[i:i + 5], ## step by 5\n",
    "        y_vars = [\"SalePrice\"]\n",
    "    )\n",
    "    "
   ]
  },
  {
   "cell_type": "markdown",
   "metadata": {},
   "source": [
    "    We see many points at x = 0 in various graphs, which denotes the absence of \n",
    "    that feature in a home, e.g. fireplaces, pool area, etc.  Remove these 0\n",
    "    values and redo the correlation values:"
   ]
  },
  {
   "cell_type": "code",
   "execution_count": null,
   "metadata": {},
   "outputs": [],
   "source": [
    "individual_features_df = [] ## create an empty list \n",
    "\n",
    "for i in range(\n",
    "    0, ## start\n",
    "    len(df_num.columns) - 1 ## stop; all columns except SalePrice which is the last column\n",
    "):\n",
    "    tmpDf = df_num[\n",
    "        [\n",
    "            df_num.columns[i],\n",
    "            \"SalePrice\"\n",
    "        ]\n",
    "    ] ## for all columns in df_num except SalePrice\n",
    "    \n",
    "    tmpDf = tmpDf[\n",
    "        tmpDf[\n",
    "            df_num.columns[i]\n",
    "        ] != 0\n",
    "    ] ## columns in tmpDf that don't equal 0\n",
    "    \n",
    "    individual_features_df.append(tmpDf)\n",
    "    \n",
    "\n",
    "all_correlations = {\n",
    "    feature.columns[0]: feature.corr()[\"SalePrice\"][0] for feature in individual_features_df\n",
    "} ## each variable's correlation with SalePrice\n",
    "\n",
    "\n",
    "all_correlations = sorted(\n",
    "    all_correlations.items(), ## items() method returns a view obj that displays a list of dictionary's (key, value) tuple pairs\n",
    "    key = operator.itemgetter(1) ##  operator.itemgetter(1): A function that grabs the nth (here is 1) item from a list-like obj\n",
    ") \n",
    "\n",
    "\n",
    "for (key, value) in all_correlations:\n",
    "    print(\n",
    "        \"{:>15}: {:>15}\".format(\n",
    "            key, ## corresponds to key =  in the revious function?\n",
    "            value ## value that needs to be formatted\n",
    "        )\n",
    "    )"
   ]
  },
  {
   "cell_type": "markdown",
   "metadata": {},
   "source": [
    "Now our golden_features_list var looks like this:"
   ]
  },
  {
   "cell_type": "code",
   "execution_count": null,
   "metadata": {},
   "outputs": [],
   "source": [
    "golden_features_list = [\n",
    "    key for key,\n",
    "    value in all_correlations if abs(value) >= 0.5\n",
    "]\n",
    "\n",
    "print(\n",
    "    \"There are {} strongly correlated values with SalePrice:\\n{}\".format(\n",
    "        len(golden_features_list),\n",
    "        golden_features_list\n",
    "    )\n",
    ")"
   ]
  },
  {
   "cell_type": "markdown",
   "metadata": {},
   "source": [
    "Therefore, there are 11 features that are strongly correlated with SalePrice."
   ]
  },
  {
   "cell_type": "markdown",
   "metadata": {},
   "source": [
    "# Feature to feature relationship"
   ]
  },
  {
   "cell_type": "markdown",
   "metadata": {},
   "source": [
    "Rather than plotting all of the numerical features using seasborn (which is very time consuming and difficult to interpret), explore whether some variables have relationships with each other:"
   ]
  },
  {
   "cell_type": "code",
   "execution_count": null,
   "metadata": {},
   "outputs": [],
   "source": [
    "corr  = df_num.drop(\"SalePrice\", axis = 1).corr() ## drop SalePrice bc we already explored this above\n",
    "\n",
    "plt.figure(figsize = (12, 10))\n",
    "\n",
    "sns.heatmap(\n",
    "    corr[\n",
    "        (corr >= 0.5) | (corr <= -0.4) ## only plot these correlations\n",
    "    ],\n",
    "    cmap = \"viridis\", ## color list \n",
    "    vmax = 1.0, ## value to anchor color map\n",
    "    linewidths = 0.1, \n",
    "    annot = True, ## If True, write the data value in each cell\n",
    "    annot_kws = {\"size\": 8}, ## value mapping\n",
    "    square = True ## If True, set the Axes aspect to “equal” so each cell will be square-shaped.\n",
    ");"
   ]
  },
  {
   "cell_type": "markdown",
   "metadata": {},
   "source": [
    "# Q -> Q (Quantitative to Quantitative relationship)\n",
    "\n",
    "Examine the quantitative features of our dataframe and how they relate to the `SalePrice`.\n",
    "\n",
    "Separate the categorical from quantitative features (refer to the following data dictionary: \"C:\\Users\\stephanie.langeland\\OneDrive - Slalom\\Misc\\Personal\\Coding Reference Files\\Python\\a_beginners_guide_to_python\\data_info\\data_description.txt\"):"
   ]
  },
  {
   "cell_type": "code",
   "execution_count": null,
   "metadata": {},
   "outputs": [],
   "source": [
    "quantitative_features_list = [\n",
    "    'LotFrontage', \n",
    "    'LotArea', \n",
    "    'MasVnrArea', \n",
    "    'BsmtFinSF1', \n",
    "    'BsmtFinSF2', \n",
    "    'TotalBsmtSF', \n",
    "    '1stFlrSF',\n",
    "    '2ndFlrSF', \n",
    "    'LowQualFinSF', \n",
    "    'GrLivArea', \n",
    "    'BsmtFullBath', \n",
    "    'BsmtHalfBath', \n",
    "    'FullBath', \n",
    "    'HalfBath',\n",
    "    'BedroomAbvGr', \n",
    "    'KitchenAbvGr', \n",
    "    'TotRmsAbvGrd', \n",
    "    'Fireplaces', \n",
    "    'GarageCars', \n",
    "    'GarageArea', \n",
    "    'WoodDeckSF', \n",
    "    'OpenPorchSF', \n",
    "    'EnclosedPorch', \n",
    "    '3SsnPorch', \n",
    "    'ScreenPorch', \n",
    "    'PoolArea', \n",
    "    'MiscVal', \n",
    "    'SalePrice'\n",
    "]\n",
    "\n",
    "\n",
    "df_quantitative_values = df[quantitative_features_list] ## subset this list of columns\n",
    "\n",
    "df_quantitative_values.head()"
   ]
  },
  {
   "cell_type": "markdown",
   "metadata": {},
   "source": [
    "Look at the strongly correlated features:"
   ]
  },
  {
   "cell_type": "code",
   "execution_count": null,
   "metadata": {},
   "outputs": [],
   "source": [
    "features_to_analyse = [\n",
    "    x for x in quantitative_features_list if x in golden_features_list ## extract variables in both lists\n",
    "]\n",
    "\n",
    "\n",
    "features_to_analyse.append(\"SalePrice\") ## add this variable name to the list we created\n",
    "\n",
    "features_to_analyse"
   ]
  },
  {
   "cell_type": "markdown",
   "metadata": {},
   "source": [
    "Distribution of `features_to_analyse`:"
   ]
  },
  {
   "cell_type": "code",
   "execution_count": null,
   "metadata": {},
   "outputs": [],
   "source": [
    "fig, ax = plt.subplots(\n",
    "    round(\n",
    "        len(features_to_analyse) / 3\n",
    "    ),\n",
    "    3,\n",
    "    figsize = (18,12)\n",
    ") ## this creates the blank plots with just the grey background \n",
    "\n",
    "\n",
    "for i, ax in enumerate(fig.axes):\n",
    "    if i < len(features_to_analyse) - 1:\n",
    "        sns.regplot(\n",
    "            x = features_to_analyse[i],\n",
    "            y = \"SalePrice\",\n",
    "            data = df[features_to_analyse],\n",
    "            ax = ax\n",
    "        ) ## for each variable in features_to_analyse, plot it against SalePrice"
   ]
  },
  {
   "cell_type": "markdown",
   "metadata": {},
   "source": [
    "# C -> Q (Categorical to Quantitative relationship)\n",
    "\n",
    "Subset the categorical variables --> just remove quantitative_features_list and irrelevant non-numerical features from our entire dataframe:"
   ]
  },
  {
   "cell_type": "code",
   "execution_count": null,
   "metadata": {},
   "outputs": [],
   "source": [
    "## remove columns from df that are included in quantitative_features_list:\n",
    "categorical_features = [\n",
    "    a for a in quantitative_features_list[:-1] + ## need to keep SalePrice which is the last column\n",
    "    df.columns.tolist() if ( ## tolist() converts the array into a list.\n",
    "        a not in quantitative_features_list[:-1] ## if columns in df are not in quantitative_features_list\n",
    "    ) or (\n",
    "        a not in df.columns.tolist()  ## or in df\n",
    "    )\n",
    "] \n",
    "\n",
    "\n",
    "df_categ = df[categorical_features]\n",
    "\n",
    "df_categ.head()"
   ]
  },
  {
   "cell_type": "code",
   "execution_count": null,
   "metadata": {},
   "outputs": [],
   "source": [
    "## remove non-numerical features:\n",
    "df_not_num = df_categ.select_dtypes(include = ['O'])\n",
    "\n",
    "\n",
    "print(\n",
    "    \"There are {} non-numerical features:\\n{}\".format(\n",
    "        len(df_not_num.columns),\n",
    "        df_not_num.columns.tolist()\n",
    "    )\n",
    ")"
   ]
  },
  {
   "cell_type": "markdown",
   "metadata": {},
   "source": [
    "Plot some categorical features:"
   ]
  },
  {
   "cell_type": "code",
   "execution_count": null,
   "metadata": {},
   "outputs": [],
   "source": [
    "plt.figure(figsize = (10, 6))\n",
    "\n",
    "ax = sns.boxplot(\n",
    "    x = \"BsmtExposure\",\n",
    "    y = \"SalePrice\",\n",
    "    data = df_categ\n",
    ")\n",
    "\n",
    "\n",
    "plt.setp(\n",
    "    ax.artists, \n",
    "    alpha = 0.5,\n",
    "    linewidth = 2, \n",
    "    edgecolor = \"k\"\n",
    ")\n",
    "\n",
    "\n",
    "plt.xticks(rotation = 45)"
   ]
  },
  {
   "cell_type": "code",
   "execution_count": null,
   "metadata": {},
   "outputs": [],
   "source": [
    "plt.figure(figsize = (12, 6 ))\n",
    "\n",
    "ax = sns.boxplot(\n",
    "    x = \"SaleCondition\",\n",
    "    y = \"SalePrice\",\n",
    "    data = df_categ\n",
    ")\n",
    "\n",
    "plt.setp(\n",
    "    ax.artists,\n",
    "    alpha = 0.5,\n",
    "    linewidth = 2,\n",
    "    edgecolor = \"k\"\n",
    ")\n",
    "\n",
    "plt.xticks(rotation = 45)"
   ]
  },
  {
   "cell_type": "markdown",
   "metadata": {},
   "source": [
    "Distributions of Categorical Features:"
   ]
  },
  {
   "cell_type": "code",
   "execution_count": null,
   "metadata": {},
   "outputs": [],
   "source": [
    "fig, axes = plt.subplots(\n",
    "    round(\n",
    "        len(df_not_num.columns) / 3\n",
    "    ), \n",
    "    3,\n",
    "    figsize = (12, 30)\n",
    ")\n",
    "\n",
    "\n",
    "for i, ax in enumerate(fig.axes):\n",
    "    if i < len(df_not_num.columns):\n",
    "        ax.set_xticklabels(\n",
    "            ax.xaxis.get_majorticklabels(),\n",
    "            rotation = 45\n",
    "        )\n",
    "        \n",
    "        sns.countplot(\n",
    "            x = df_not_num.columns[i],\n",
    "            alpha = 0.7,\n",
    "            data = df_not_num,\n",
    "            ax = ax\n",
    "        )"
   ]
  }
 ],
 "metadata": {
  "kernelspec": {
   "display_name": "Python 3",
   "language": "python",
   "name": "python3"
  },
  "language_info": {
   "codemirror_mode": {
    "name": "ipython",
    "version": 3
   },
   "file_extension": ".py",
   "mimetype": "text/x-python",
   "name": "python",
   "nbconvert_exporter": "python",
   "pygments_lexer": "ipython3",
   "version": "3.7.0"
  },
  "toc": {
   "base_numbering": 1,
   "nav_menu": {},
   "number_sections": true,
   "sideBar": false,
   "skip_h1_title": false,
   "title_cell": "Table of Contents",
   "title_sidebar": "Contents",
   "toc_cell": true,
   "toc_position": {},
   "toc_section_display": true,
   "toc_window_display": false
  }
 },
 "nbformat": 4,
 "nbformat_minor": 2
}
